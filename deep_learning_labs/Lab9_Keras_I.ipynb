{
  "nbformat": 4,
  "nbformat_minor": 0,
  "metadata": {
    "colab": {
      "name": "Copy of Deep Learning - Keras I.ipynb",
      "provenance": [],
      "collapsed_sections": []
    },
    "kernelspec": {
      "name": "python3",
      "display_name": "Python 3"
    },
    "accelerator": "GPU"
  },
  "cells": [
    {
      "cell_type": "markdown",
      "metadata": {
        "id": "0VqDA86jYdnI",
        "colab_type": "text"
      },
      "source": [
        "# Εισαγωγή στο keras\n",
        "\n",
        "![keras logo](https://s3.amazonaws.com/keras.io/img/keras-logo-2018-large-1200.png)\n",
        "\n",
        "To [keras](https://keras.io/) είναι μια ανοιχτού κώδικα, υψηλού επιπέδου *διεπαφή προγραμματιστικών εφαρμογών* (API) για νευρωνικά δίκτυα, γραμμένη σε Python, η οποία μπορεί να τρέξει πάνω από το [TensorFlow](https://www.tensorflow.org/), το [Microsoft Cognitive Toolkit (CNTK)](https://www.microsoft.com/en-us/cognitive-toolkit/) ή το [Theano](http://deeplearning.net/software/theano/). Αναπτύχθηκε από τον François Chollet και η πρώτη της έκδοση δημοσιεύτηκε στις 27 Μαρτίου του 2015. Οι κύριες σχεδιαστικές της αρχές της είναι η ευκολία χρήσης, η αρθρωτή της δομή και η δυνατότητα επεκτασιμότητας, ενώ επίσης επιτρέπει τη γρήγορη σχεδίαση βαθιών δικτύων και τον πειραματισμό με αυτά. Είναι συμβατή με τις εκδόσεις της Python από 2.7 ως 3.6.\n",
        "\n",
        "### Βασικά χαρακτηριστικά\n",
        "- Εύκολη και γρήγορη κατασκευή δικτύων (μέσω της αρθρωτής της αρχιτεκτονικής και της ευχρηστίας της)\n",
        "- Υποστηρίζει CPU και επιταχυντές γραφικών (GPU)\n",
        "- Υποστηρίζει μεταξύ άλλων δίκτυα πρόσθιας τροφοδότησης (feedforward networks), συνελικτικά (convolutional) και αναδρομικά δίκτυα (recurrent)\n",
        "\n",
        "### Λειτουργία Επιπέδων\n",
        "\n",
        "Το keras, **δεν είναι** αυτόνομη βιβλιοθήκη μηχανικής μάθησης, αλλά μια διεπαφή, σχεδιασμένη να τρέχει πάνω από άλλες βιβλιοθήκες. Παρέχει δομικά στοιχεία κατασκευής μοντέλων (από αρκετά απλά ως αρκετά σύνθετα), αλλά δεν χειρίζεται υπολογισμούς χαμηλού επιπέδου (λ.χ. πράξεις μεταξύ τανυστών). Αυτές πραγματοποιούνται από τις βιβλιοθήκες χαμηλότερου επιπέδου, οι όποιες θα μπορούσαμε να πούμε ότι παίζουν το ρόλο ενός *backend engine*.  Η αρθρωτή αρχιτεκτονική δεν επιβάλλει τη χρήση συγκεκριμένης backend engine και αυτή τη στιγμή υποστηρίζονται οι 3 μηχανές που αναφέρθηκαν παραπάνω (Tensorflow, CNTK, Theano). Στο αμέσως κατώτερο επίπεδο υπάρχουν οι βιβλιοθήκες της γραμμικές άλγεβρας (CUDA/cuDNN για την GPU, BLAS, Eigen κλπ για τη CPU) και φυσικά το υλικό (κάρτα γραφικών/επεξεργαστής).\n",
        "\n",
        "![keras_stack](https://encrypted-tbn0.gstatic.com/images?q=tbn:ANd9GcSj2pFeXU2dbnb-ODl81AIg7JWOax8ejk-w4UbJU1ibC3PA-t3O7g)\n",
        "\n",
        "### Δημοφιλία\n",
        "\n",
        "Αυτή τη στιγμή είναι η πλέον δημοφιλής βιβλιοθήκη βαθιάς μάθησης, όπως φαίνεται και στην παρακάτω γραφική παράσταση, η οποία εμφανίζει τα [Google Trends](https://trends.google.com) για πέντε βιβλιοθήκες μηχανικής μάθησης\n",
        "\n",
        "\n",
        "![](https://pbs.twimg.com/media/DBa7RkFUQAAYynh.jpg)\n",
        "\n",
        "### Χρήση επιταχυντών γραφικών (GPU) και cloud Jupyter notebooks\n",
        "\n",
        "Όπως είδαμε στο προηγούμενο εργαστήριο, για την ταχύτερη εκτέλεση των βαθιών δικτύων απαιτείται η χρήση επιταχυντή γραφικών (GPU). Αυτή τη στιγμή (Δεκέμβριος 2018), GPU acceleration υποστηρίζουν μόνο τα notebooks στο Colab και το Kaggle. Για το σημερινό notebook και γενικά για βαθιά μηχανική μάθηση σε notebook, μπορείτε να χρησιμοποιήσετε ένα από τα δύο. \n",
        "\n",
        "Για να χρησιμοποιήσετε **GPU στο Colab** πρέπει να επιλέξετε Runtime (Runtime-> Change Runtime) με υποστήριξη GPU.\n",
        "\n",
        "\n",
        "Όπως βλέπετε το Colab υποστηρίζει και (το proprietary) TPU acceleration.\n",
        "\n",
        "Αντίστοιχα για **GPU στο Kaggle**, εντός του notebook πηγαίνουμε στα settings και διαλέγουμε GPU on\n",
        "\n",
        "![alt text](https://i.ibb.co/DQygcwt/kaggle.png)\n",
        "\n",
        "Υπενθυμίζουμε ότι στο Kaggle πρέπει να κάνουμε connect το internet για να μπορούμε να εγκαθιστούμε πακέτα (το ακριβώς από κάτω setting).\n",
        "\n",
        "To GPU settings αποθηκεύεται ως παράμετρος του runtime εντός του notebook και δεν χρειάζεται να το επιλέγουμε/αλλάζουμε κάθε φορά που το ανοίγουμε.\n",
        "\n",
        "Εφόσον έχουμε runtime με GPU τρέχουμε τις ακόλουθες εντολές για να δούμε ποια είναι η κάρτα γραφικών μας στο cloud (και το CPU μας)"
      ]
    },
    {
      "cell_type": "code",
      "metadata": {
        "colab_type": "code",
        "id": "f6mMP8yNqu0L",
        "outputId": "dd633c40-fd45-42af-fb1c-8e91fed87eb6",
        "colab": {
          "base_uri": "https://localhost:8080/",
          "height": 51
        }
      },
      "source": [
        "!nvidia-smi -L\n",
        "!lscpu |grep 'Model name'"
      ],
      "execution_count": 0,
      "outputs": [
        {
          "output_type": "stream",
          "text": [
            "GPU 0: Tesla K80 (UUID: GPU-a24b387c-bf83-cf2b-3502-35947c66c874)\n",
            "Model name:          Intel(R) Xeon(R) CPU @ 2.30GHz\n"
          ],
          "name": "stdout"
        }
      ]
    },
    {
      "cell_type": "markdown",
      "metadata": {
        "colab_type": "text",
        "id": "smaJXsDYug-8"
      },
      "source": [
        "## Εγκατάσταση Keras\n",
        "\n",
        "Θα εγκαταστήσουμε το keras και ως backend engine το tensorflow 1.15. "
      ]
    },
    {
      "cell_type": "code",
      "metadata": {
        "colab_type": "code",
        "id": "_jIYP8ZXK9su",
        "outputId": "28c6b78f-aa77-427f-9327-f9493be00a79",
        "colab": {
          "base_uri": "https://localhost:8080/",
          "height": 374
        }
      },
      "source": [
        "!pip install --upgrade tensorflow==1.15"
      ],
      "execution_count": 0,
      "outputs": [
        {
          "output_type": "stream",
          "text": [
            "Requirement already up-to-date: tensorflow==1.15 in /usr/local/lib/python3.6/dist-packages (1.15.0)\n",
            "Requirement already satisfied, skipping upgrade: termcolor>=1.1.0 in /usr/local/lib/python3.6/dist-packages (from tensorflow==1.15) (1.1.0)\n",
            "Requirement already satisfied, skipping upgrade: keras-preprocessing>=1.0.5 in /usr/local/lib/python3.6/dist-packages (from tensorflow==1.15) (1.1.0)\n",
            "Requirement already satisfied, skipping upgrade: six>=1.10.0 in /usr/local/lib/python3.6/dist-packages (from tensorflow==1.15) (1.12.0)\n",
            "Requirement already satisfied, skipping upgrade: wrapt>=1.11.1 in /usr/local/lib/python3.6/dist-packages (from tensorflow==1.15) (1.11.2)\n",
            "Requirement already satisfied, skipping upgrade: astor>=0.6.0 in /usr/local/lib/python3.6/dist-packages (from tensorflow==1.15) (0.8.1)\n",
            "Requirement already satisfied, skipping upgrade: google-pasta>=0.1.6 in /usr/local/lib/python3.6/dist-packages (from tensorflow==1.15) (0.1.8)\n",
            "Requirement already satisfied, skipping upgrade: opt-einsum>=2.3.2 in /usr/local/lib/python3.6/dist-packages (from tensorflow==1.15) (3.1.0)\n",
            "Requirement already satisfied, skipping upgrade: numpy<2.0,>=1.16.0 in /usr/local/lib/python3.6/dist-packages (from tensorflow==1.15) (1.17.5)\n",
            "Requirement already satisfied, skipping upgrade: tensorboard<1.16.0,>=1.15.0 in /usr/local/lib/python3.6/dist-packages (from tensorflow==1.15) (1.15.0)\n",
            "Requirement already satisfied, skipping upgrade: absl-py>=0.7.0 in /usr/local/lib/python3.6/dist-packages (from tensorflow==1.15) (0.9.0)\n",
            "Requirement already satisfied, skipping upgrade: tensorflow-estimator==1.15.1 in /usr/local/lib/python3.6/dist-packages (from tensorflow==1.15) (1.15.1)\n",
            "Requirement already satisfied, skipping upgrade: grpcio>=1.8.6 in /usr/local/lib/python3.6/dist-packages (from tensorflow==1.15) (1.15.0)\n",
            "Requirement already satisfied, skipping upgrade: protobuf>=3.6.1 in /usr/local/lib/python3.6/dist-packages (from tensorflow==1.15) (3.10.0)\n",
            "Requirement already satisfied, skipping upgrade: gast==0.2.2 in /usr/local/lib/python3.6/dist-packages (from tensorflow==1.15) (0.2.2)\n",
            "Requirement already satisfied, skipping upgrade: wheel>=0.26 in /usr/local/lib/python3.6/dist-packages (from tensorflow==1.15) (0.33.6)\n",
            "Requirement already satisfied, skipping upgrade: keras-applications>=1.0.8 in /usr/local/lib/python3.6/dist-packages (from tensorflow==1.15) (1.0.8)\n",
            "Requirement already satisfied, skipping upgrade: werkzeug>=0.11.15 in /usr/local/lib/python3.6/dist-packages (from tensorboard<1.16.0,>=1.15.0->tensorflow==1.15) (0.16.0)\n",
            "Requirement already satisfied, skipping upgrade: setuptools>=41.0.0 in /usr/local/lib/python3.6/dist-packages (from tensorboard<1.16.0,>=1.15.0->tensorflow==1.15) (42.0.2)\n",
            "Requirement already satisfied, skipping upgrade: markdown>=2.6.8 in /usr/local/lib/python3.6/dist-packages (from tensorboard<1.16.0,>=1.15.0->tensorflow==1.15) (3.1.1)\n",
            "Requirement already satisfied, skipping upgrade: h5py in /usr/local/lib/python3.6/dist-packages (from keras-applications>=1.0.8->tensorflow==1.15) (2.8.0)\n"
          ],
          "name": "stdout"
        }
      ]
    },
    {
      "cell_type": "code",
      "metadata": {
        "id": "v0aKmenMYdng",
        "colab_type": "code",
        "outputId": "9411567c-bbb9-42c9-cf1a-1cc754a61465",
        "colab": {
          "base_uri": "https://localhost:8080/",
          "height": 663
        }
      },
      "source": [
        "!pip install --upgrade keras\n",
        "!pip install --upgrade numpy\n",
        "!pip install --upgrade matplotlib"
      ],
      "execution_count": 0,
      "outputs": [
        {
          "output_type": "stream",
          "text": [
            "Collecting keras\n",
            "\u001b[?25l  Downloading https://files.pythonhosted.org/packages/ad/fd/6bfe87920d7f4fd475acd28500a42482b6b84479832bdc0fe9e589a60ceb/Keras-2.3.1-py2.py3-none-any.whl (377kB)\n",
            "\r\u001b[K     |▉                               | 10kB 19.5MB/s eta 0:00:01\r\u001b[K     |█▊                              | 20kB 4.3MB/s eta 0:00:01\r\u001b[K     |██▋                             | 30kB 5.8MB/s eta 0:00:01\r\u001b[K     |███▌                            | 40kB 5.6MB/s eta 0:00:01\r\u001b[K     |████▍                           | 51kB 5.0MB/s eta 0:00:01\r\u001b[K     |█████▏                          | 61kB 5.5MB/s eta 0:00:01\r\u001b[K     |██████                          | 71kB 6.0MB/s eta 0:00:01\r\u001b[K     |███████                         | 81kB 6.5MB/s eta 0:00:01\r\u001b[K     |███████▉                        | 92kB 6.6MB/s eta 0:00:01\r\u001b[K     |████████▊                       | 102kB 6.6MB/s eta 0:00:01\r\u001b[K     |█████████▌                      | 112kB 6.6MB/s eta 0:00:01\r\u001b[K     |██████████▍                     | 122kB 6.6MB/s eta 0:00:01\r\u001b[K     |███████████▎                    | 133kB 6.6MB/s eta 0:00:01\r\u001b[K     |████████████▏                   | 143kB 6.6MB/s eta 0:00:01\r\u001b[K     |█████████████                   | 153kB 6.6MB/s eta 0:00:01\r\u001b[K     |█████████████▉                  | 163kB 6.6MB/s eta 0:00:01\r\u001b[K     |██████████████▊                 | 174kB 6.6MB/s eta 0:00:01\r\u001b[K     |███████████████▋                | 184kB 6.6MB/s eta 0:00:01\r\u001b[K     |████████████████▌               | 194kB 6.6MB/s eta 0:00:01\r\u001b[K     |█████████████████▍              | 204kB 6.6MB/s eta 0:00:01\r\u001b[K     |██████████████████▏             | 215kB 6.6MB/s eta 0:00:01\r\u001b[K     |███████████████████             | 225kB 6.6MB/s eta 0:00:01\r\u001b[K     |████████████████████            | 235kB 6.6MB/s eta 0:00:01\r\u001b[K     |████████████████████▉           | 245kB 6.6MB/s eta 0:00:01\r\u001b[K     |█████████████████████▊          | 256kB 6.6MB/s eta 0:00:01\r\u001b[K     |██████████████████████▌         | 266kB 6.6MB/s eta 0:00:01\r\u001b[K     |███████████████████████▍        | 276kB 6.6MB/s eta 0:00:01\r\u001b[K     |████████████████████████▎       | 286kB 6.6MB/s eta 0:00:01\r\u001b[K     |█████████████████████████▏      | 296kB 6.6MB/s eta 0:00:01\r\u001b[K     |██████████████████████████      | 307kB 6.6MB/s eta 0:00:01\r\u001b[K     |██████████████████████████▉     | 317kB 6.6MB/s eta 0:00:01\r\u001b[K     |███████████████████████████▊    | 327kB 6.6MB/s eta 0:00:01\r\u001b[K     |████████████████████████████▋   | 337kB 6.6MB/s eta 0:00:01\r\u001b[K     |█████████████████████████████▌  | 348kB 6.6MB/s eta 0:00:01\r\u001b[K     |██████████████████████████████▍ | 358kB 6.6MB/s eta 0:00:01\r\u001b[K     |███████████████████████████████▏| 368kB 6.6MB/s eta 0:00:01\r\u001b[K     |████████████████████████████████| 378kB 6.6MB/s \n",
            "\u001b[?25hRequirement already satisfied, skipping upgrade: numpy>=1.9.1 in /usr/local/lib/python3.6/dist-packages (from keras) (1.17.5)\n",
            "Requirement already satisfied, skipping upgrade: h5py in /usr/local/lib/python3.6/dist-packages (from keras) (2.8.0)\n",
            "Requirement already satisfied, skipping upgrade: keras-applications>=1.0.6 in /usr/local/lib/python3.6/dist-packages (from keras) (1.0.8)\n",
            "Requirement already satisfied, skipping upgrade: scipy>=0.14 in /usr/local/lib/python3.6/dist-packages (from keras) (1.4.1)\n",
            "Requirement already satisfied, skipping upgrade: keras-preprocessing>=1.0.5 in /usr/local/lib/python3.6/dist-packages (from keras) (1.1.0)\n",
            "Requirement already satisfied, skipping upgrade: six>=1.9.0 in /usr/local/lib/python3.6/dist-packages (from keras) (1.12.0)\n",
            "Requirement already satisfied, skipping upgrade: pyyaml in /usr/local/lib/python3.6/dist-packages (from keras) (3.13)\n",
            "Installing collected packages: keras\n",
            "  Found existing installation: Keras 2.2.5\n",
            "    Uninstalling Keras-2.2.5:\n",
            "      Successfully uninstalled Keras-2.2.5\n",
            "Successfully installed keras-2.3.1\n",
            "Collecting numpy\n",
            "\u001b[?25l  Downloading https://files.pythonhosted.org/packages/62/20/4d43e141b5bc426ba38274933ef8e76e85c7adea2c321ecf9ebf7421cedf/numpy-1.18.1-cp36-cp36m-manylinux1_x86_64.whl (20.1MB)\n",
            "\u001b[K     |████████████████████████████████| 20.2MB 157kB/s \n",
            "\u001b[31mERROR: datascience 0.10.6 has requirement folium==0.2.1, but you'll have folium 0.8.3 which is incompatible.\u001b[0m\n",
            "\u001b[31mERROR: albumentations 0.1.12 has requirement imgaug<0.2.7,>=0.2.5, but you'll have imgaug 0.2.9 which is incompatible.\u001b[0m\n",
            "\u001b[?25hInstalling collected packages: numpy\n",
            "  Found existing installation: numpy 1.17.5\n",
            "    Uninstalling numpy-1.17.5:\n",
            "      Successfully uninstalled numpy-1.17.5\n",
            "Successfully installed numpy-1.18.1\n"
          ],
          "name": "stdout"
        },
        {
          "output_type": "display_data",
          "data": {
            "application/vnd.colab-display-data+json": {
              "pip_warning": {
                "packages": [
                  "numpy"
                ]
              }
            }
          },
          "metadata": {
            "tags": []
          }
        },
        {
          "output_type": "stream",
          "text": [
            "Requirement already up-to-date: matplotlib in /usr/local/lib/python3.6/dist-packages (3.1.2)\n",
            "Requirement already satisfied, skipping upgrade: cycler>=0.10 in /usr/local/lib/python3.6/dist-packages (from matplotlib) (0.10.0)\n",
            "Requirement already satisfied, skipping upgrade: pyparsing!=2.0.4,!=2.1.2,!=2.1.6,>=2.0.1 in /usr/local/lib/python3.6/dist-packages (from matplotlib) (2.4.6)\n",
            "Requirement already satisfied, skipping upgrade: python-dateutil>=2.1 in /usr/local/lib/python3.6/dist-packages (from matplotlib) (2.6.1)\n",
            "Requirement already satisfied, skipping upgrade: numpy>=1.11 in /usr/local/lib/python3.6/dist-packages (from matplotlib) (1.18.1)\n",
            "Requirement already satisfied, skipping upgrade: kiwisolver>=1.0.1 in /usr/local/lib/python3.6/dist-packages (from matplotlib) (1.1.0)\n",
            "Requirement already satisfied, skipping upgrade: six in /usr/local/lib/python3.6/dist-packages (from cycler>=0.10->matplotlib) (1.12.0)\n",
            "Requirement already satisfied, skipping upgrade: setuptools in /usr/local/lib/python3.6/dist-packages (from kiwisolver>=1.0.1->matplotlib) (42.0.2)\n"
          ],
          "name": "stdout"
        }
      ]
    },
    {
      "cell_type": "markdown",
      "metadata": {
        "colab_type": "text",
        "id": "Ywz4O14Oxhnq"
      },
      "source": [
        "!pip install --upgrade matplotlib\n",
        "### Εκτέλεση Tensorflow σε CPU ή GPU\n",
        "\n",
        "To Tensorflow θα χρησιμοποιήσει αυτόματα την/τις GPU αν είναι διαθέσιμες. Μπορούμε να του πούμε και [ρητά](https://www.tensorflow.org/guide/using_gpu) τί να χρησιμοποιήσει."
      ]
    },
    {
      "cell_type": "markdown",
      "metadata": {
        "colab_type": "text",
        "id": "eHauk173wC_w"
      },
      "source": [
        "## Εισαγωγή βιβλιοθηκών"
      ]
    },
    {
      "cell_type": "code",
      "metadata": {
        "colab_type": "code",
        "id": "IKnJbnthK9s7",
        "outputId": "527f38a9-cb16-4c2d-9f29-afdef6157457",
        "colab": {
          "base_uri": "https://localhost:8080/",
          "height": 80
        }
      },
      "source": [
        "from keras.datasets import mnist\n",
        "from keras.initializers import TruncatedNormal\n",
        "from keras.layers import Conv2D, Dense, Flatten, Input, MaxPooling2D\n",
        "from keras.models import Model, Sequential\n",
        "from keras.optimizers import Adam\n",
        "from keras.utils import to_categorical\n",
        "from sklearn.preprocessing import MinMaxScaler\n",
        "\n",
        "import numpy as np\n",
        "import matplotlib.pyplot as plt"
      ],
      "execution_count": 0,
      "outputs": [
        {
          "output_type": "stream",
          "text": [
            "Using TensorFlow backend.\n"
          ],
          "name": "stderr"
        },
        {
          "output_type": "display_data",
          "data": {
            "text/html": [
              "<p style=\"color: red;\">\n",
              "The default version of TensorFlow in Colab will soon switch to TensorFlow 2.x.<br>\n",
              "We recommend you <a href=\"https://www.tensorflow.org/guide/migrate\" target=\"_blank\">upgrade</a> now \n",
              "or ensure your notebook will continue to use TensorFlow 1.x via the <code>%tensorflow_version 1.x</code> magic:\n",
              "<a href=\"https://colab.research.google.com/notebooks/tensorflow_version.ipynb\" target=\"_blank\">more info</a>.</p>\n"
            ],
            "text/plain": [
              "<IPython.core.display.HTML object>"
            ]
          },
          "metadata": {
            "tags": []
          }
        }
      ]
    },
    {
      "cell_type": "markdown",
      "metadata": {
        "id": "MyzFWvAzK7yS",
        "colab_type": "text"
      },
      "source": [
        "## Dataset\n",
        "\n",
        "Όπως και στο προηγούμενο εργαστήριο, θα εργαστούμε με το [MNIST dataset](http://yann.lecun.com/exdb/mnist/), που περιέχει ασπρόμαυρες εικόνες χειρόγραφων ψηφίων $(0-9)$, $28\\times28$ pixel η κάθε μια. \n",
        "\n",
        "![](https://ujwlkarn.files.wordpress.com/2016/08/8-gif.gif?w=192&h=192&zoom=2)\n"
      ]
    },
    {
      "cell_type": "markdown",
      "metadata": {
        "id": "jam65-iXLObP",
        "colab_type": "text"
      },
      "source": [
        "####  Φόρτωση των δεδομένων\n",
        "\n",
        "Αρχικά, φορτώνουμε το dataset, που όπως και στην περίπτωση του Tensorflow, υπάρχει ως module του framework"
      ]
    },
    {
      "cell_type": "code",
      "metadata": {
        "id": "X9eKHb3QLQQH",
        "colab_type": "code",
        "outputId": "0aeb12db-1bba-4287-d05b-445da14494be",
        "colab": {
          "base_uri": "https://localhost:8080/",
          "height": 136
        }
      },
      "source": [
        "(x_train, y_train), (x_test, y_test) = mnist.load_data()\n",
        "\n",
        "print('Διαστάσεις δεδομένων εκπαίδευσης')\n",
        "print('Πρότυπα εκπαίδευσης: ', x_train.shape, ' Ετικέτες εκπαίδευσης: ', y_train.shape)\n",
        "print('\\nΔιαστάσεις δεδομένων ελέγχου')\n",
        "print('Πρότυπα ελέγχου: ', x_test.shape, ' Ετικέτες ελέγχου: ', y_test.shape)"
      ],
      "execution_count": 0,
      "outputs": [
        {
          "output_type": "stream",
          "text": [
            "Downloading data from https://s3.amazonaws.com/img-datasets/mnist.npz\n",
            "11493376/11490434 [==============================] - 1s 0us/step\n",
            "Διαστάσεις δεδομένων εκπαίδευσης\n",
            "Πρότυπα εκπαίδευσης:  (60000, 28, 28)  Ετικέτες εκπαίδευσης:  (60000,)\n",
            "\n",
            "Διαστάσεις δεδομένων ελέγχου\n",
            "Πρότυπα ελέγχου:  (10000, 28, 28)  Ετικέτες ελέγχου:  (10000,)\n"
          ],
          "name": "stdout"
        }
      ]
    },
    {
      "cell_type": "markdown",
      "metadata": {
        "id": "kXqPbIKXLZVo",
        "colab_type": "text"
      },
      "source": [
        "#### Επισκόπηση των δεδομένων\n",
        "\n",
        "Και σε αυτή την περίπτωση, τα πρότυπα  είναι σε μορφή ασπρόμαυρης εικόνας $28\\times28$ pixels, ωστόσο δεν είναι κανονικοποιημένα στο διάστημα $[0,1]$ όπως στο Tensorflow, ούτε οι αντίστοιχες ετικέτες είναι σε μορφή one-hot. Για του λόγου το αληθές, εξετάζουμε το πρώτο ζεύγος προτύπου-ετικέτας του συνόλου εκπαίδευσης"
      ]
    },
    {
      "cell_type": "code",
      "metadata": {
        "id": "U9c1HYJYLi7J",
        "colab_type": "code",
        "outputId": "b42ef265-3b62-44d5-c01b-36bf173d759f",
        "colab": {
          "base_uri": "https://localhost:8080/",
          "height": 1000
        }
      },
      "source": [
        "idx = 0\n",
        "\n",
        "print('Πρότυπο εισόδου\\n', x_train[idx])\n",
        "print('\\nΕτικέτα: ', y_train[idx])"
      ],
      "execution_count": 0,
      "outputs": [
        {
          "output_type": "stream",
          "text": [
            "Πρότυπο εισόδου\n",
            " [[  0   0   0   0   0   0   0   0   0   0   0   0   0   0   0   0   0   0\n",
            "    0   0   0   0   0   0   0   0   0   0]\n",
            " [  0   0   0   0   0   0   0   0   0   0   0   0   0   0   0   0   0   0\n",
            "    0   0   0   0   0   0   0   0   0   0]\n",
            " [  0   0   0   0   0   0   0   0   0   0   0   0   0   0   0   0   0   0\n",
            "    0   0   0   0   0   0   0   0   0   0]\n",
            " [  0   0   0   0   0   0   0   0   0   0   0   0   0   0   0   0   0   0\n",
            "    0   0   0   0   0   0   0   0   0   0]\n",
            " [  0   0   0   0   0   0   0   0   0   0   0   0   0   0   0   0   0   0\n",
            "    0   0   0   0   0   0   0   0   0   0]\n",
            " [  0   0   0   0   0   0   0   0   0   0   0   0   3  18  18  18 126 136\n",
            "  175  26 166 255 247 127   0   0   0   0]\n",
            " [  0   0   0   0   0   0   0   0  30  36  94 154 170 253 253 253 253 253\n",
            "  225 172 253 242 195  64   0   0   0   0]\n",
            " [  0   0   0   0   0   0   0  49 238 253 253 253 253 253 253 253 253 251\n",
            "   93  82  82  56  39   0   0   0   0   0]\n",
            " [  0   0   0   0   0   0   0  18 219 253 253 253 253 253 198 182 247 241\n",
            "    0   0   0   0   0   0   0   0   0   0]\n",
            " [  0   0   0   0   0   0   0   0  80 156 107 253 253 205  11   0  43 154\n",
            "    0   0   0   0   0   0   0   0   0   0]\n",
            " [  0   0   0   0   0   0   0   0   0  14   1 154 253  90   0   0   0   0\n",
            "    0   0   0   0   0   0   0   0   0   0]\n",
            " [  0   0   0   0   0   0   0   0   0   0   0 139 253 190   2   0   0   0\n",
            "    0   0   0   0   0   0   0   0   0   0]\n",
            " [  0   0   0   0   0   0   0   0   0   0   0  11 190 253  70   0   0   0\n",
            "    0   0   0   0   0   0   0   0   0   0]\n",
            " [  0   0   0   0   0   0   0   0   0   0   0   0  35 241 225 160 108   1\n",
            "    0   0   0   0   0   0   0   0   0   0]\n",
            " [  0   0   0   0   0   0   0   0   0   0   0   0   0  81 240 253 253 119\n",
            "   25   0   0   0   0   0   0   0   0   0]\n",
            " [  0   0   0   0   0   0   0   0   0   0   0   0   0   0  45 186 253 253\n",
            "  150  27   0   0   0   0   0   0   0   0]\n",
            " [  0   0   0   0   0   0   0   0   0   0   0   0   0   0   0  16  93 252\n",
            "  253 187   0   0   0   0   0   0   0   0]\n",
            " [  0   0   0   0   0   0   0   0   0   0   0   0   0   0   0   0   0 249\n",
            "  253 249  64   0   0   0   0   0   0   0]\n",
            " [  0   0   0   0   0   0   0   0   0   0   0   0   0   0  46 130 183 253\n",
            "  253 207   2   0   0   0   0   0   0   0]\n",
            " [  0   0   0   0   0   0   0   0   0   0   0   0  39 148 229 253 253 253\n",
            "  250 182   0   0   0   0   0   0   0   0]\n",
            " [  0   0   0   0   0   0   0   0   0   0  24 114 221 253 253 253 253 201\n",
            "   78   0   0   0   0   0   0   0   0   0]\n",
            " [  0   0   0   0   0   0   0   0  23  66 213 253 253 253 253 198  81   2\n",
            "    0   0   0   0   0   0   0   0   0   0]\n",
            " [  0   0   0   0   0   0  18 171 219 253 253 253 253 195  80   9   0   0\n",
            "    0   0   0   0   0   0   0   0   0   0]\n",
            " [  0   0   0   0  55 172 226 253 253 253 253 244 133  11   0   0   0   0\n",
            "    0   0   0   0   0   0   0   0   0   0]\n",
            " [  0   0   0   0 136 253 253 253 212 135 132  16   0   0   0   0   0   0\n",
            "    0   0   0   0   0   0   0   0   0   0]\n",
            " [  0   0   0   0   0   0   0   0   0   0   0   0   0   0   0   0   0   0\n",
            "    0   0   0   0   0   0   0   0   0   0]\n",
            " [  0   0   0   0   0   0   0   0   0   0   0   0   0   0   0   0   0   0\n",
            "    0   0   0   0   0   0   0   0   0   0]\n",
            " [  0   0   0   0   0   0   0   0   0   0   0   0   0   0   0   0   0   0\n",
            "    0   0   0   0   0   0   0   0   0   0]]\n",
            "\n",
            "Ετικέτα:  5\n"
          ],
          "name": "stdout"
        }
      ]
    },
    {
      "cell_type": "markdown",
      "metadata": {
        "id": "V4CMOLU_Lovm",
        "colab_type": "text"
      },
      "source": [
        "#### Προεπεξεργασία των δεδομένων\n",
        "\n",
        "\n",
        "Σε ένα πρώτο στάδιο, θα κλιμακώσουμε (γραμμικά) τα pixels της κάθε εικόνας από το $[0,255]$ στο $[0,1]$, με τη χρήση του [MinMaxScaler](https://scikit-learn.org/stable/modules/generated/sklearn.preprocessing.MinMaxScaler.html) από το preprocessing module του scikit-learn. Ο MinMaxScaler, ωστόσο, μπορεί να επεξεργαστεί δεδομένα μέχρι 2 διαστάσεων και όχι 3, που είναι η δική μας είσοδος (πλήθος εικόνων χ 28 χ 28 pixels). Για το  λόγο αυτό και με τη χρήση της συνάρτησης [reshape](https://docs.scipy.org/doc/numpy/reference/generated/numpy.reshape.html) του numpy, μετατρέπουμε την κάθε ασπρόμαυρη εικόνα $28\\times28$ σε διάνυσμα $1\\times784$. Η μετατροπή αυτή, εκτός του MinMaxScaler, μας είναι χρήσιμη και για τη συνέχεια, μιας και η τροφοδότηση του απλού και του πολυεπίπεδου perceptron γίνεται υπό τη μορφή διανύσματος και όχι υπό τη μορφή πίνακα."
      ]
    },
    {
      "cell_type": "code",
      "metadata": {
        "id": "7BgUgAzKLzNh",
        "colab_type": "code",
        "colab": {}
      },
      "source": [
        "x_train=x_train.reshape((x_train.shape[0], 784))\n",
        "x_test=x_test.reshape((x_test.shape[0], 784))\n",
        "\n",
        "scaler = MinMaxScaler()\n",
        "x_train = scaler.fit_transform(x_train)\n",
        "x_test = scaler.fit_transform(x_test)"
      ],
      "execution_count": 0,
      "outputs": []
    },
    {
      "cell_type": "markdown",
      "metadata": {
        "id": "35ucnZ8VMHCP",
        "colab_type": "text"
      },
      "source": [
        "Στη συνέχεια μετατρέπουμε τις ετικέτες σε μορφή one-hot με τη χρήση της συνάρτησης *to_categorical()* του module [Utils](https://keras.io/utils/) του keras"
      ]
    },
    {
      "cell_type": "code",
      "metadata": {
        "id": "H5yU29aGMLb3",
        "colab_type": "code",
        "colab": {}
      },
      "source": [
        "y_train = to_categorical(y_train)\n",
        "y_test = to_categorical(y_test)"
      ],
      "execution_count": 0,
      "outputs": []
    },
    {
      "cell_type": "markdown",
      "metadata": {
        "id": "tt8Eizm3MPQP",
        "colab_type": "text"
      },
      "source": [
        "Πριν προχωρήσουμε στην κατασκευή και εκπαίδευση των δικτύων μας, εξετάζουμε αν τα δεδομένα (μέγεθος/τιμές) είναι στη μορφή που θέλουμε"
      ]
    },
    {
      "cell_type": "code",
      "metadata": {
        "id": "YJLtJHzwMWDL",
        "colab_type": "code",
        "outputId": "75467290-2afd-4f99-a4d4-4879dd7d3f8c",
        "colab": {
          "base_uri": "https://localhost:8080/",
          "height": 1000
        }
      },
      "source": [
        "print('Διαστάσεις δεδομένων εκπαίδευσης')\n",
        "print('Πρότυπα εκπαίδευσης: ', x_train.shape, ' Ετικέτες εκπαίδευσης: ', y_train.shape)\n",
        "print('\\nΔιαστάσεις δεδομένων ελέγχου')\n",
        "print('Πρότυπα ελέγχου: ', x_test.shape, ' Ετικέτες ελέγχου: ', y_test.shape)\n",
        "\n",
        "idx = 0\n",
        "\n",
        "print('Πρότυπο εισόδου\\n', x_train[idx])\n",
        "print('\\nΕτικέτα: ', y_train[idx])\n"
      ],
      "execution_count": 0,
      "outputs": [
        {
          "output_type": "stream",
          "text": [
            "Διαστάσεις δεδομένων εκπαίδευσης\n",
            "Πρότυπα εκπαίδευσης:  (60000, 784)  Ετικέτες εκπαίδευσης:  (60000, 10)\n",
            "\n",
            "Διαστάσεις δεδομένων ελέγχου\n",
            "Πρότυπα ελέγχου:  (10000, 784)  Ετικέτες ελέγχου:  (10000, 10)\n",
            "Πρότυπο εισόδου\n",
            " [0.         0.         0.         0.         0.         0.\n",
            " 0.         0.         0.         0.         0.         0.\n",
            " 0.         0.         0.         0.         0.         0.\n",
            " 0.         0.         0.         0.         0.         0.\n",
            " 0.         0.         0.         0.         0.         0.\n",
            " 0.         0.         0.         0.         0.         0.\n",
            " 0.         0.         0.         0.         0.         0.\n",
            " 0.         0.         0.         0.         0.         0.\n",
            " 0.         0.         0.         0.         0.         0.\n",
            " 0.         0.         0.         0.         0.         0.\n",
            " 0.         0.         0.         0.         0.         0.\n",
            " 0.         0.         0.         0.         0.         0.\n",
            " 0.         0.         0.         0.         0.         0.\n",
            " 0.         0.         0.         0.         0.         0.\n",
            " 0.         0.         0.         0.         0.         0.\n",
            " 0.         0.         0.         0.         0.         0.\n",
            " 0.         0.         0.         0.         0.         0.\n",
            " 0.         0.         0.         0.         0.         0.\n",
            " 0.         0.         0.         0.         0.         0.\n",
            " 0.         0.         0.         0.         0.         0.\n",
            " 0.         0.         0.         0.         0.         0.\n",
            " 0.         0.         0.         0.         0.         0.\n",
            " 0.         0.         0.         0.         0.         0.\n",
            " 0.         0.         0.         0.         0.         0.\n",
            " 0.         0.         0.         0.         0.         0.\n",
            " 0.         0.         0.01176471 0.07058824 0.07058824 0.07058824\n",
            " 0.49411765 0.53333333 0.68627451 0.10196078 0.65098039 1.\n",
            " 0.96862745 0.49803922 0.         0.         0.         0.\n",
            " 0.         0.         0.         0.         0.         0.\n",
            " 0.         0.         0.11764706 0.14117647 0.36862745 0.60392157\n",
            " 0.66666667 0.99215686 0.99215686 0.99215686 0.99215686 0.99215686\n",
            " 0.88235294 0.6745098  0.99215686 0.94901961 0.76470588 0.25098039\n",
            " 0.         0.         0.         0.         0.         0.\n",
            " 0.         0.         0.         0.         0.         0.19215686\n",
            " 0.93333333 0.99215686 0.99215686 0.99215686 0.99215686 0.99215686\n",
            " 0.99215686 0.99215686 0.99215686 0.98431373 0.36470588 0.32156863\n",
            " 0.32156863 0.21960784 0.15294118 0.         0.         0.\n",
            " 0.         0.         0.         0.         0.         0.\n",
            " 0.         0.         0.         0.07058824 0.85882353 0.99215686\n",
            " 0.99215686 0.99215686 0.99215686 0.99215686 0.77647059 0.71372549\n",
            " 0.96862745 0.94509804 0.         0.         0.         0.\n",
            " 0.         0.         0.         0.         0.         0.\n",
            " 0.         0.         0.         0.         0.         0.\n",
            " 0.         0.         0.31372549 0.61176471 0.41960784 0.99215686\n",
            " 0.99215686 0.80392157 0.04313725 0.         0.16862745 0.60392157\n",
            " 0.         0.         0.         0.         0.         0.\n",
            " 0.         0.         0.         0.         0.         0.\n",
            " 0.         0.         0.         0.         0.         0.\n",
            " 0.         0.05490196 0.00392157 0.60392157 0.99215686 0.35294118\n",
            " 0.         0.         0.         0.         0.         0.\n",
            " 0.         0.         0.         0.         0.         0.\n",
            " 0.         0.         0.         0.         0.         0.\n",
            " 0.         0.         0.         0.         0.         0.\n",
            " 0.         0.54509804 0.99215686 0.74509804 0.00784314 0.\n",
            " 0.         0.         0.         0.         0.         0.\n",
            " 0.         0.         0.         0.         0.         0.\n",
            " 0.         0.         0.         0.         0.         0.\n",
            " 0.         0.         0.         0.         0.         0.04313725\n",
            " 0.74509804 0.99215686 0.2745098  0.         0.         0.\n",
            " 0.         0.         0.         0.         0.         0.\n",
            " 0.         0.         0.         0.         0.         0.\n",
            " 0.         0.         0.         0.         0.         0.\n",
            " 0.         0.         0.         0.         0.1372549  0.94509804\n",
            " 0.88235294 0.62745098 0.42352941 0.00392157 0.         0.\n",
            " 0.         0.         0.         0.         0.         0.\n",
            " 0.         0.         0.         0.         0.         0.\n",
            " 0.         0.         0.         0.         0.         0.\n",
            " 0.         0.         0.         0.31764706 0.94117647 0.99215686\n",
            " 0.99215686 0.46666667 0.09803922 0.         0.         0.\n",
            " 0.         0.         0.         0.         0.         0.\n",
            " 0.         0.         0.         0.         0.         0.\n",
            " 0.         0.         0.         0.         0.         0.\n",
            " 0.         0.         0.17647059 0.72941176 0.99215686 0.99215686\n",
            " 0.58823529 0.10588235 0.         0.         0.         0.\n",
            " 0.         0.         0.         0.         0.         0.\n",
            " 0.         0.         0.         0.         0.         0.\n",
            " 0.         0.         0.         0.         0.         0.\n",
            " 0.         0.0627451  0.36470588 0.98823529 0.99215686 0.73333333\n",
            " 0.         0.         0.         0.         0.         0.\n",
            " 0.         0.         0.         0.         0.         0.\n",
            " 0.         0.         0.         0.         0.         0.\n",
            " 0.         0.         0.         0.         0.         0.\n",
            " 0.         0.97647059 0.99215686 0.97647059 0.25098039 0.\n",
            " 0.         0.         0.         0.         0.         0.\n",
            " 0.         0.         0.         0.         0.         0.\n",
            " 0.         0.         0.         0.         0.         0.\n",
            " 0.         0.         0.18039216 0.50980392 0.71764706 0.99215686\n",
            " 0.99215686 0.81176471 0.00784314 0.         0.         0.\n",
            " 0.         0.         0.         0.         0.         0.\n",
            " 0.         0.         0.         0.         0.         0.\n",
            " 0.         0.         0.         0.         0.15294118 0.58039216\n",
            " 0.89803922 0.99215686 0.99215686 0.99215686 0.98039216 0.71372549\n",
            " 0.         0.         0.         0.         0.         0.\n",
            " 0.         0.         0.         0.         0.         0.\n",
            " 0.         0.         0.         0.         0.         0.\n",
            " 0.09411765 0.44705882 0.86666667 0.99215686 0.99215686 0.99215686\n",
            " 0.99215686 0.78823529 0.30588235 0.         0.         0.\n",
            " 0.         0.         0.         0.         0.         0.\n",
            " 0.         0.         0.         0.         0.         0.\n",
            " 0.         0.         0.09019608 0.25882353 0.83529412 0.99215686\n",
            " 0.99215686 0.99215686 0.99215686 0.77647059 0.31764706 0.00784314\n",
            " 0.         0.         0.         0.         0.         0.\n",
            " 0.         0.         0.         0.         0.         0.\n",
            " 0.         0.         0.         0.         0.07058824 0.67058824\n",
            " 0.85882353 0.99215686 0.99215686 0.99215686 0.99215686 0.76470588\n",
            " 0.31372549 0.03529412 0.         0.         0.         0.\n",
            " 0.         0.         0.         0.         0.         0.\n",
            " 0.         0.         0.         0.         0.         0.\n",
            " 0.21568627 0.6745098  0.88627451 0.99215686 0.99215686 0.99215686\n",
            " 0.99215686 0.95686275 0.52156863 0.04313725 0.         0.\n",
            " 0.         0.         0.         0.         0.         0.\n",
            " 0.         0.         0.         0.         0.         0.\n",
            " 0.         0.         0.         0.         0.53333333 0.99215686\n",
            " 0.99215686 0.99215686 0.83137255 0.52941176 0.51764706 0.0627451\n",
            " 0.         0.         0.         0.         0.         0.\n",
            " 0.         0.         0.         0.         0.         0.\n",
            " 0.         0.         0.         0.         0.         0.\n",
            " 0.         0.         0.         0.         0.         0.\n",
            " 0.         0.         0.         0.         0.         0.\n",
            " 0.         0.         0.         0.         0.         0.\n",
            " 0.         0.         0.         0.         0.         0.\n",
            " 0.         0.         0.         0.         0.         0.\n",
            " 0.         0.         0.         0.         0.         0.\n",
            " 0.         0.         0.         0.         0.         0.\n",
            " 0.         0.         0.         0.         0.         0.\n",
            " 0.         0.         0.         0.         0.         0.\n",
            " 0.         0.         0.         0.         0.         0.\n",
            " 0.         0.         0.         0.         0.         0.\n",
            " 0.         0.         0.         0.         0.         0.\n",
            " 0.         0.         0.         0.         0.         0.\n",
            " 0.         0.         0.         0.        ]\n",
            "\n",
            "Ετικέτα:  [0. 0. 0. 0. 0. 1. 0. 0. 0. 0.]\n"
          ],
          "name": "stdout"
        }
      ]
    },
    {
      "cell_type": "markdown",
      "metadata": {
        "colab_type": "text",
        "id": "IjNaB7YyK9tf"
      },
      "source": [
        "## Νευρωνικά Δίκτυα στο Keras\n",
        "\n",
        "### Διαδικασία κατασκευής και εκπαίδευσης μοντέλου\n",
        "\n",
        "Η διαδικασία κατασκευής και εκπαίδευσης ενός μοντέλου είναι παρόμοια με αυτή που έχουμε δει στο *scikit-learn* και περιγράφεται στα παρακάτω 4 βήματα:\n",
        "1. Ορισμός των δεδομένων εκπαίδευσης (τανυστές εισόδου και εξόδου)\n",
        "2. Ορισμός ενός μοντέλου, το οποίο συσχετίζει την είσοδο με την έξοδο\n",
        "3. Παραμετροποίηση της διαδικασίας μάθησης μέσω της επιλογής συνάρτησης κόστους (cost function), του βελτιστοποιητή (optimizer) και των μετρικών απόδοσης\n",
        "4. Τροφοδότηση των δεδομένων στο δίκτυο και εκπαίδευσή του μέσω της κλήσης της συνάρτησης *fit()* του μοντέλου\n",
        "\n",
        "### Ορισμός μοντέλου\n",
        "\n",
        "Το API του keras προσφέρει δύο διεπαφές (APIs) για τον ορισμό ενός μοντέλου νευρωνικών δικτύων:\n",
        "- Την ακολουθιακή (Sequential [1](https://keras.io/getting-started/sequential-model-guide/), [2](https://keras.io/models/sequential/)), η οποία χρησιμοποιείται για την κατασκευή αρχιτεκτονικών όπου τα επίπεδα στοιβάζονται (stacked) το ένα μετά το άλλο.\n",
        "- Την συναρτησιακή ([functional](https://keras.io/models/model/)), η οποία βασίζεται στην κατασκευή κατευθυντικών ακυκλικών γράφων (Directed Acyclic Graphs), με έναν τρόπο αντίστοιχο με αυτόν που είδαμε στο Tensorflow στο προηγούμενο εργαστήριο και η οποία μπορεί να χρησιμοποιηθεί για την κατασκευή οποιασδήποτε αρχιτεκτονικής θέλουμε\n",
        "\n",
        "\n",
        "\n",
        "\n"
      ]
    },
    {
      "cell_type": "markdown",
      "metadata": {
        "id": "RuerBn4JBATF",
        "colab_type": "text"
      },
      "source": [
        "### Δημιουργία ενός perceptron\n",
        "\n",
        "Όπως και στο προηγούμενο εργαστήριο, θα επιλύσουμε το συγκεκριμένο πρόβλημα ταξινόμησης με ένα perceptron με 784 εισόδους και 10 εξόδους.\n",
        "\n",
        "![](https://codelabs.developers.google.com/codelabs/cloud-tensorflow-mnist/img/d5222c6e3d15770a.png)\n",
        "\n",
        "Σύμφωνα με τη θεωρία, ο κάθε νευρώνας του επιπέδου εξόδου εκτελεί το μετασχηματισμό  $f \\left( x \\cdot W + b \\right) $, όπου $W$ και $b$ οι πίνακες των βαρων, $x$ η είσοδος του δικτύου και $f$ η μη-γραμμική συνάρτηση ενεργοποίησης. Από τη θεωρία επίσης γνωρίζουμε ότι κατά την εκπαίδευση του δικτύου, η πληροφορία διαδίδεται με 2 τρόπους: \n",
        "1. Πρώτα το δίκτυο δέχεται την είσοδο ($Χ$) και εκτελεί τις πράξεις για να παράγει την έξοδο ($\\hat y$). Η ροή της πληροφορίας εδώ γίνεται από την είσοδο του δικτύου προς την έξοδό του. \n",
        "\n",
        "2. Η έξοδος του δικτύου συγκρίνεται με την αναμενόμενη έξοδο (ετικέτα $y$), με τη βοήθεια μιας συνάρτησης κόστους $L$, την οποία θέλουμε και να ελαχιστοποιήσουμε. Για να το πετύχουμε αυτό, θα χρησιμοποιήσουμε την τεχνική *κατάβασης κλίσης* (gradient descent), η οποία σε κάθε βήμα της εκπαίδευσης ενημερώνει τα βάρη του επιπέδου εισόδου του δικτύου ως εξής:\n",
        "\n",
        "$$\n",
        "w \\leftarrow w - η \\cdot \\frac{dL \\left( y, \\hat y\\right)}{dw} \\\\\n",
        "b \\leftarrow b - η \\cdot \\frac{dL \\left( y, \\hat y\\right)}{db}\n",
        "$$"
      ]
    },
    {
      "cell_type": "markdown",
      "metadata": {
        "id": "DcOKSwjvND66",
        "colab_type": "text"
      },
      "source": [
        "#### Ακολουθιακή διεπαφή\n",
        "\n",
        "\n",
        "Σε αντίθεση με αυτά που είχαμε δει στο προηγούμενο εργαστήριο, στην περίπτωση της ακολουθιακής διεπαφής του keras δεν χρειάζεται να ορίσουμε ούτε τα διανύσματα βαρών, ούτε τον υπολογιστικό γράφο για τις 2 ροές πληροφορίας, μιας και αυτά αναλαμβάνει να τα υλοποιήσει το ίδιο το framework. Έτσι το μόνο που έχουμε να κάνουμε εμείς είναι απλά να καθορίσουμε την αρχιτεκτονική του μοντέλου μας Με πιο απλά λόγια, το keras μας \"κρύβει\" όλες τις διαδικασίες υλοποίησης."
      ]
    },
    {
      "cell_type": "code",
      "metadata": {
        "id": "CnEqgq0XF9x-",
        "colab_type": "code",
        "colab": {}
      },
      "source": [
        "perceptron = Sequential()"
      ],
      "execution_count": 0,
      "outputs": []
    },
    {
      "cell_type": "markdown",
      "metadata": {
        "colab_type": "text",
        "id": "XGwHccH-K9t5"
      },
      "source": [
        "Στη συνέχεια και μέσω της χρήσης της μεθόδου *add()* προσθέτουμε το επίπεδο εξόδου, το οποίο αποτελείται από 10 πλήρους διασυνδεδεμένους (με την είσοδο) νευρώνες (κλάση Dense του module [Core Layers](https://keras.io/layers/core/) του keras), με συνάρτηση ενεργοποίησης [softmax](https://en.wikipedia.org/wiki/Softmax_function) \n",
        "\n",
        "$$ \n",
        "softmax(z_{i,j}) = \\frac{e^{z_{i,j}}}{\\sum_{k=1}^{10}{e^{z_{k, j}}}}\n",
        "$$\n",
        "\n",
        "Επίσης ορίζουμε ότι το διάνυσμα εισόδου έχει μέγεθος $784$ και αρχικοποιούμε τις τιμές των βαρών και της πόλωσης στο μηδέν."
      ]
    },
    {
      "cell_type": "code",
      "metadata": {
        "colab_type": "code",
        "id": "5d9HS6l_K9t6",
        "outputId": "84acda1a-5c81-4160-bf39-7b1cf2c594c9",
        "colab": {
          "base_uri": "https://localhost:8080/",
          "height": 88
        }
      },
      "source": [
        "perceptron.add(Dense(10, activation='softmax', kernel_initializer='zeros', bias_initializer='zeros', input_shape=(784,)))"
      ],
      "execution_count": 0,
      "outputs": [
        {
          "output_type": "stream",
          "text": [
            "WARNING:tensorflow:From /usr/local/lib/python3.6/dist-packages/tensorflow_core/python/ops/resource_variable_ops.py:1630: calling BaseResourceVariable.__init__ (from tensorflow.python.ops.resource_variable_ops) with constraint is deprecated and will be removed in a future version.\n",
            "Instructions for updating:\n",
            "If using Keras pass *_constraint arguments to layers.\n"
          ],
          "name": "stdout"
        }
      ]
    },
    {
      "cell_type": "markdown",
      "metadata": {
        "colab_type": "text",
        "id": "ZqVyfApOK9t-"
      },
      "source": [
        "Ένας ακόμα πιο ευανάγνωστος τρόπος καθορισμού της αρχιτεκτονικής του μοντέλου είναι αυτή να οριστεί ως παράμετρος κατά τη δημιουργία του στιγμιοτύπου της κλάσης Sequential"
      ]
    },
    {
      "cell_type": "code",
      "metadata": {
        "colab_type": "code",
        "id": "uBrLp6F_K9t_",
        "colab": {}
      },
      "source": [
        "perceptron = Sequential([\n",
        "    Dense(10, activation='softmax', kernel_initializer='zeros', bias_initializer='zeros', input_shape=(784,))\n",
        "])"
      ],
      "execution_count": 0,
      "outputs": []
    },
    {
      "cell_type": "markdown",
      "metadata": {
        "colab_type": "text",
        "id": "Mhjr6DgVK9uG"
      },
      "source": [
        "Μετά τη δημιουργία της αρχιτεκτονικής, με την μέθοδο *compile()* ορίζουμε τις παραμέτρους της εκπαίδευσης:\n",
        "1. Χρήση κατάβασης κλίσης ως αλγορίθμου βελτιστοποίησης\n",
        "2. Χρήση εντροπίας ([crossentropy](https://ml-cheatsheet.readthedocs.io/en/latest/loss_functions.html)) ως συνάρτησης κόστους\n",
        "3. Χρήση της μετρικής της ακρίβειας για την εκτίμηση της απόδοσης του ταξινομητή"
      ]
    },
    {
      "cell_type": "code",
      "metadata": {
        "colab_type": "code",
        "id": "GZ0WMTrWK9uH",
        "colab": {}
      },
      "source": [
        "perceptron.compile(optimizer='sgd', loss='categorical_crossentropy', metrics=['accuracy'])"
      ],
      "execution_count": 0,
      "outputs": []
    },
    {
      "cell_type": "markdown",
      "metadata": {
        "colab_type": "text",
        "id": "it6yBRDhK9uM"
      },
      "source": [
        "Τέλος, εκπαιδεύουμε το μοντέλο μας στα δεδομένα εκπαίδευσης με τη χρήση της μεθόδου *fit()* ορίζοντας πλήθος εποχών και batch_size.\n",
        "\n",
        "[Epochs, batch size, iterations](https://stackoverflow.com/questions/4752626/epoch-vs-iteration-when-training-neural-networks)"
      ]
    },
    {
      "cell_type": "code",
      "metadata": {
        "colab_type": "code",
        "id": "yZIjIwBNK9uO",
        "outputId": "73c289a5-3547-4f44-be11-8253654f3af0",
        "colab": {
          "base_uri": "https://localhost:8080/",
          "height": 901
        }
      },
      "source": [
        "epochs = 25\n",
        "hist = perceptron.fit(x_train, y_train, epochs=epochs, batch_size=128)"
      ],
      "execution_count": 0,
      "outputs": [
        {
          "output_type": "stream",
          "text": [
            "WARNING:tensorflow:From /usr/local/lib/python3.6/dist-packages/keras/backend/tensorflow_backend.py:422: The name tf.global_variables is deprecated. Please use tf.compat.v1.global_variables instead.\n",
            "\n",
            "Epoch 1/25\n",
            "60000/60000 [==============================] - 8s 140us/step - loss: 1.2493 - accuracy: 0.7874\n",
            "Epoch 2/25\n",
            "60000/60000 [==============================] - 1s 25us/step - loss: 0.7053 - accuracy: 0.8503\n",
            "Epoch 3/25\n",
            "60000/60000 [==============================] - 2s 26us/step - loss: 0.5804 - accuracy: 0.8646\n",
            "Epoch 4/25\n",
            "60000/60000 [==============================] - 2s 25us/step - loss: 0.5203 - accuracy: 0.8723\n",
            "Epoch 5/25\n",
            "60000/60000 [==============================] - 2s 26us/step - loss: 0.4836 - accuracy: 0.8781\n",
            "Epoch 6/25\n",
            "60000/60000 [==============================] - 2s 25us/step - loss: 0.4583 - accuracy: 0.8822\n",
            "Epoch 7/25\n",
            "60000/60000 [==============================] - 2s 26us/step - loss: 0.4396 - accuracy: 0.8856\n",
            "Epoch 8/25\n",
            "60000/60000 [==============================] - 2s 26us/step - loss: 0.4250 - accuracy: 0.8881\n",
            "Epoch 9/25\n",
            "60000/60000 [==============================] - 2s 27us/step - loss: 0.4132 - accuracy: 0.8904\n",
            "Epoch 10/25\n",
            "60000/60000 [==============================] - 2s 26us/step - loss: 0.4034 - accuracy: 0.8924\n",
            "Epoch 11/25\n",
            "60000/60000 [==============================] - 2s 26us/step - loss: 0.3950 - accuracy: 0.8938\n",
            "Epoch 12/25\n",
            "60000/60000 [==============================] - 2s 26us/step - loss: 0.3879 - accuracy: 0.8957\n",
            "Epoch 13/25\n",
            "60000/60000 [==============================] - 2s 26us/step - loss: 0.3816 - accuracy: 0.8969\n",
            "Epoch 14/25\n",
            "60000/60000 [==============================] - 2s 25us/step - loss: 0.3761 - accuracy: 0.8979\n",
            "Epoch 15/25\n",
            "60000/60000 [==============================] - 2s 26us/step - loss: 0.3712 - accuracy: 0.8992\n",
            "Epoch 16/25\n",
            "60000/60000 [==============================] - 2s 26us/step - loss: 0.3667 - accuracy: 0.8998\n",
            "Epoch 17/25\n",
            "60000/60000 [==============================] - 2s 26us/step - loss: 0.3627 - accuracy: 0.9009\n",
            "Epoch 18/25\n",
            "60000/60000 [==============================] - 2s 25us/step - loss: 0.3590 - accuracy: 0.9018\n",
            "Epoch 19/25\n",
            "60000/60000 [==============================] - 2s 26us/step - loss: 0.3557 - accuracy: 0.9022\n",
            "Epoch 20/25\n",
            "60000/60000 [==============================] - 2s 26us/step - loss: 0.3526 - accuracy: 0.9033\n",
            "Epoch 21/25\n",
            "60000/60000 [==============================] - 2s 25us/step - loss: 0.3497 - accuracy: 0.9036\n",
            "Epoch 22/25\n",
            "60000/60000 [==============================] - 2s 25us/step - loss: 0.3470 - accuracy: 0.9039\n",
            "Epoch 23/25\n",
            "60000/60000 [==============================] - 2s 25us/step - loss: 0.3445 - accuracy: 0.9049\n",
            "Epoch 24/25\n",
            "60000/60000 [==============================] - 2s 26us/step - loss: 0.3422 - accuracy: 0.9054\n",
            "Epoch 25/25\n",
            "60000/60000 [==============================] - 1s 25us/step - loss: 0.3400 - accuracy: 0.9060\n"
          ],
          "name": "stdout"
        }
      ]
    },
    {
      "cell_type": "markdown",
      "metadata": {
        "id": "TcbfnNHVa2HV",
        "colab_type": "text"
      },
      "source": [
        "Μπορούμε να σχεδιάσουμε τη συνάρτηση κόστους και την ακρίβεια ανά εποχή στο σύνολο εκπαίδευσης"
      ]
    },
    {
      "cell_type": "code",
      "metadata": {
        "id": "hjQrVQ6zbSQe",
        "colab_type": "code",
        "outputId": "0f07d6c7-303d-474b-a17d-d30cfba466d7",
        "colab": {
          "base_uri": "https://localhost:8080/",
          "height": 455
        }
      },
      "source": [
        "plt.rcParams[\"figure.figsize\"] = (20,6)\n",
        "plt.subplot(1, 2, 1)\n",
        "plt.plot(range(1,epochs+1), hist.history['loss'], c='deepskyblue')\n",
        "plt.legend()\n",
        "plt.title('Cross-entropy loss on the training set')\n",
        "plt.xlabel('Epoch')\n",
        "plt.ylabel('Cross-entropy loss')\n",
        "plt.subplot(1, 2, 2)\n",
        "plt.plot(range(1,epochs+1), hist.history['accuracy'], c='deepskyblue')\n",
        "plt.legend(loc='lower right')\n",
        "plt.title('Accuracy on the training set')\n",
        "plt.xlabel('Epoch')\n",
        "plt.ylabel('Accuracy')"
      ],
      "execution_count": 0,
      "outputs": [
        {
          "output_type": "stream",
          "text": [
            "No handles with labels found to put in legend.\n",
            "No handles with labels found to put in legend.\n"
          ],
          "name": "stderr"
        },
        {
          "output_type": "execute_result",
          "data": {
            "text/plain": [
              "Text(0, 0.5, 'Accuracy')"
            ]
          },
          "metadata": {
            "tags": []
          },
          "execution_count": 15
        },
        {
          "output_type": "display_data",
          "data": {
            "image/png": "[encoded data removed]",
            "text/plain": [
              "<Figure size 1440x432 with 2 Axes>"
            ]
          },
          "metadata": {
            "tags": []
          }
        }
      ]
    },
    {
      "cell_type": "markdown",
      "metadata": {
        "colab_type": "text",
        "id": "PEezY92rK9uS"
      },
      "source": [
        "Με τη χρήση της μεθόδου *evaluate()* βλέπουμε την απόδοση του μοντέλου μας στα δεδομένα ελέγχου"
      ]
    },
    {
      "cell_type": "code",
      "metadata": {
        "colab_type": "code",
        "id": "HIPSagAiK9uT",
        "outputId": "92e584c0-3eda-489a-c0f4-76c7b5029640",
        "colab": {
          "base_uri": "https://localhost:8080/",
          "height": 85
        }
      },
      "source": [
        "perceptron_loss, perceptron_acc = perceptron.evaluate(x_test, y_test)\n",
        "\n",
        "print('\\nΣυνάρτηση κόστους: \\t{:.2f}\\nΑκρίβεια:\\t\\t{:.2f}%'.format(perceptron_loss, 100*perceptron_acc))"
      ],
      "execution_count": 0,
      "outputs": [
        {
          "output_type": "stream",
          "text": [
            "10000/10000 [==============================] - 1s 75us/step\n",
            "\n",
            "Συνάρτηση κόστους: \t0.32\n",
            "Ακρίβεια:\t\t91.14%\n"
          ],
          "name": "stdout"
        }
      ]
    },
    {
      "cell_type": "markdown",
      "metadata": {
        "id": "obhHKUIg-gvD",
        "colab_type": "text"
      },
      "source": [
        "Τέλος, όπως και στο προηγούμενο εργαστήριο, μπορούμε να οπτικοποιήσουμε τα βάρη για κάθε νευρώνα $(0-9$) διατάσσοντας τα $784$ στοιχεία σε μια εικόνα $28x28$ pixel."
      ]
    },
    {
      "cell_type": "code",
      "metadata": {
        "id": "yc9aEb3t-kfV",
        "colab_type": "code",
        "outputId": "d9b83869-3a96-4947-dbcd-66284fb4cbe6",
        "colab": {
          "base_uri": "https://localhost:8080/",
          "height": 377
        }
      },
      "source": [
        "for i in range(10):\n",
        "    plt.subplot(2, 5, i+1)\n",
        "    weight = perceptron.layers[0].get_weights()[0][:,i].reshape([28,28])\n",
        "    plt.title(i)\n",
        "    plt.imshow(weight, cmap='RdBu')\n",
        "    frame1 = plt.gca()\n",
        "    frame1.axes.get_xaxis().set_visible(False)\n",
        "    frame1.axes.get_yaxis().set_visible(False)"
      ],
      "execution_count": 0,
      "outputs": [
        {
          "output_type": "display_data",
          "data": {
            "image/png": "[encoded data removed]",
            "text/plain": [
              "<Figure size 1440x432 with 10 Axes>"
            ]
          },
          "metadata": {
            "tags": []
          }
        }
      ]
    },
    {
      "cell_type": "markdown",
      "metadata": {
        "colab_type": "text",
        "id": "Nn_eJUzUK9um"
      },
      "source": [
        "#### Συναρτησιακή διεπαφή\n",
        "\n",
        "Με τη συναρτησιακή διεπαφή μπορούμε να ορίσουμε πιο σύνθετα μοντέλα (λ.χ. με πολλά επίπεδα εξόδου), κατευθυντικούς ακυκλικούς γράφους ή ακόμα και μοντέλα με διαμοιραζόμενα επίπεδα.  Η λειτουργία της συναρτησιακής διεπαφής μοιάζει κάπως περισσότερο με το Tensorflow (θα μπορούσαμε να ισχυριστούμε πως είναι πιο low level).\n",
        "\n",
        "Καταρχήν, ορίζουμε τον τανυστή των εισόδων μας (κλάση *Input* του module Core Layers του keras)"
      ]
    },
    {
      "cell_type": "code",
      "metadata": {
        "colab_type": "code",
        "id": "5Xfba0N8K9un",
        "colab": {}
      },
      "source": [
        "inputs = Input(shape=(784,))"
      ],
      "execution_count": 0,
      "outputs": []
    },
    {
      "cell_type": "markdown",
      "metadata": {
        "colab_type": "text",
        "id": "LTuZU1-IK9uv"
      },
      "source": [
        "Στη συνέχεια ορίζουμε το επίπεδο εξόδου (τανυστής) 10 νευρώνων με συναρτήσεις ενεργοποίησης softmax, όπως προηγουμένως, δίνοντας ως επιπρόσθετο όρισμα τον τανυστή της εισόδου"
      ]
    },
    {
      "cell_type": "code",
      "metadata": {
        "colab_type": "code",
        "id": "p1w6TZGSK9ux",
        "colab": {}
      },
      "source": [
        "predictions = Dense(10, kernel_initializer='zeros', bias_initializer='zeros', activation='softmax')(inputs)"
      ],
      "execution_count": 0,
      "outputs": []
    },
    {
      "cell_type": "markdown",
      "metadata": {
        "id": "ZvZmKml-hvxs",
        "colab_type": "text"
      },
      "source": [
        "Πλέον μπορούμε να ορίσουμε το μοντέλο μας (κλάση Model), ως μια σχέση τανυστών εισόδου και εξόδου"
      ]
    },
    {
      "cell_type": "code",
      "metadata": {
        "id": "AaGI7x9hiH-z",
        "colab_type": "code",
        "colab": {}
      },
      "source": [
        "perceptron_func = Model(inputs=inputs, outputs=predictions)"
      ],
      "execution_count": 0,
      "outputs": []
    },
    {
      "cell_type": "markdown",
      "metadata": {
        "colab_type": "text",
        "id": "NmW12JOiK9u8"
      },
      "source": [
        "Κατόπιν θέτουμε τις παραμέτρους της εκπαίδευσης (μέθοδο βελτιστοποίησης, συνάρτηση κόστους, μετρική απόδοσης),  όπως και στην περίπτωση του ακολουθιακού μοντέλου"
      ]
    },
    {
      "cell_type": "code",
      "metadata": {
        "colab_type": "code",
        "id": "AjAkZWFWK9u9",
        "colab": {}
      },
      "source": [
        "perceptron_func.compile(optimizer='sgd', loss='categorical_crossentropy', metrics=['accuracy'])"
      ],
      "execution_count": 0,
      "outputs": []
    },
    {
      "cell_type": "markdown",
      "metadata": {
        "id": "FXyu769vhLkg",
        "colab_type": "text"
      },
      "source": [
        "Είμαστε έτοιμοι να εκπαιδεύσουμε τον ταξινομητή μας, με την κλήση της μεθόδου *fit()*, ακριβώς όπως και στο ακολουθιακό μοντέλο"
      ]
    },
    {
      "cell_type": "code",
      "metadata": {
        "id": "ev6PZeZahXRy",
        "colab_type": "code",
        "outputId": "33c98602-44c6-4ebe-a401-42c524e557e1",
        "colab": {
          "base_uri": "https://localhost:8080/",
          "height": 867
        }
      },
      "source": [
        "hist_func = perceptron_func.fit(x_train, y_train, epochs=epochs, batch_size=128)"
      ],
      "execution_count": 0,
      "outputs": [
        {
          "output_type": "stream",
          "text": [
            "Epoch 1/25\n",
            "60000/60000 [==============================] - 2s 26us/step - loss: 1.2491 - accuracy: 0.7941\n",
            "Epoch 2/25\n",
            "60000/60000 [==============================] - 2s 26us/step - loss: 0.7055 - accuracy: 0.8501\n",
            "Epoch 3/25\n",
            "60000/60000 [==============================] - 2s 26us/step - loss: 0.5804 - accuracy: 0.8651\n",
            "Epoch 4/25\n",
            "60000/60000 [==============================] - 2s 25us/step - loss: 0.5203 - accuracy: 0.8725\n",
            "Epoch 5/25\n",
            "60000/60000 [==============================] - 2s 25us/step - loss: 0.4836 - accuracy: 0.8783\n",
            "Epoch 6/25\n",
            "60000/60000 [==============================] - 2s 26us/step - loss: 0.4584 - accuracy: 0.8820\n",
            "Epoch 7/25\n",
            "60000/60000 [==============================] - 2s 25us/step - loss: 0.4396 - accuracy: 0.8853\n",
            "Epoch 8/25\n",
            "60000/60000 [==============================] - 2s 25us/step - loss: 0.4250 - accuracy: 0.8885\n",
            "Epoch 9/25\n",
            "60000/60000 [==============================] - 1s 25us/step - loss: 0.4131 - accuracy: 0.8903\n",
            "Epoch 10/25\n",
            "60000/60000 [==============================] - 2s 25us/step - loss: 0.4034 - accuracy: 0.8924\n",
            "Epoch 11/25\n",
            "60000/60000 [==============================] - 2s 25us/step - loss: 0.3951 - accuracy: 0.8943\n",
            "Epoch 12/25\n",
            "60000/60000 [==============================] - 2s 26us/step - loss: 0.3879 - accuracy: 0.8958\n",
            "Epoch 13/25\n",
            "60000/60000 [==============================] - 2s 25us/step - loss: 0.3816 - accuracy: 0.8971\n",
            "Epoch 14/25\n",
            "60000/60000 [==============================] - 2s 26us/step - loss: 0.3761 - accuracy: 0.8979\n",
            "Epoch 15/25\n",
            "60000/60000 [==============================] - 2s 26us/step - loss: 0.3712 - accuracy: 0.8992\n",
            "Epoch 16/25\n",
            "60000/60000 [==============================] - 2s 26us/step - loss: 0.3667 - accuracy: 0.9003\n",
            "Epoch 17/25\n",
            "60000/60000 [==============================] - 2s 25us/step - loss: 0.3627 - accuracy: 0.9009\n",
            "Epoch 18/25\n",
            "60000/60000 [==============================] - 2s 26us/step - loss: 0.3590 - accuracy: 0.9018\n",
            "Epoch 19/25\n",
            "60000/60000 [==============================] - 2s 26us/step - loss: 0.3556 - accuracy: 0.9026\n",
            "Epoch 20/25\n",
            "60000/60000 [==============================] - 2s 26us/step - loss: 0.3525 - accuracy: 0.9032\n",
            "Epoch 21/25\n",
            "60000/60000 [==============================] - 2s 25us/step - loss: 0.3497 - accuracy: 0.9037\n",
            "Epoch 22/25\n",
            "60000/60000 [==============================] - 2s 25us/step - loss: 0.3470 - accuracy: 0.9040\n",
            "Epoch 23/25\n",
            "60000/60000 [==============================] - 2s 26us/step - loss: 0.3445 - accuracy: 0.9050\n",
            "Epoch 24/25\n",
            "60000/60000 [==============================] - 2s 25us/step - loss: 0.3422 - accuracy: 0.9056\n",
            "Epoch 25/25\n",
            "60000/60000 [==============================] - 2s 25us/step - loss: 0.3400 - accuracy: 0.9058\n"
          ],
          "name": "stdout"
        }
      ]
    },
    {
      "cell_type": "markdown",
      "metadata": {
        "id": "BoPk_PnKi7gw",
        "colab_type": "text"
      },
      "source": [
        "Σχεδιάζουμε τη συνάρτηση κόστους και την ακρίβεια ανά εποχή εκπαίδευσης"
      ]
    },
    {
      "cell_type": "code",
      "metadata": {
        "id": "ZM4-ANkfjAL6",
        "colab_type": "code",
        "outputId": "d410a480-9eab-40db-8885-b777056b6246",
        "colab": {
          "base_uri": "https://localhost:8080/",
          "height": 455
        }
      },
      "source": [
        "plt.rcParams[\"figure.figsize\"] = (20,6)\n",
        "plt.subplot(1, 2, 1)\n",
        "plt.plot(range(1,epochs+1), hist_func.history['loss'], c='deepskyblue')\n",
        "plt.legend()\n",
        "plt.title('Cross-entropy loss on the training set')\n",
        "plt.xlabel('Epoch')\n",
        "plt.ylabel('Cross-entropy loss')\n",
        "plt.subplot(1, 2, 2)\n",
        "plt.plot(range(1,epochs+1), hist_func.history['accuracy'], c='deepskyblue')\n",
        "plt.legend(loc='lower right')\n",
        "plt.title('Accuracy on the training set')\n",
        "plt.xlabel('Epoch')\n",
        "plt.ylabel('Accuracy')"
      ],
      "execution_count": 0,
      "outputs": [
        {
          "output_type": "stream",
          "text": [
            "No handles with labels found to put in legend.\n",
            "No handles with labels found to put in legend.\n"
          ],
          "name": "stderr"
        },
        {
          "output_type": "execute_result",
          "data": {
            "text/plain": [
              "Text(0, 0.5, 'Accuracy')"
            ]
          },
          "metadata": {
            "tags": []
          },
          "execution_count": 23
        },
        {
          "output_type": "display_data",
          "data": {
            "image/png": "[encoded data removed]",
            "text/plain": [
              "<Figure size 1440x432 with 2 Axes>"
            ]
          },
          "metadata": {
            "tags": []
          }
        }
      ]
    },
    {
      "cell_type": "markdown",
      "metadata": {
        "id": "GJIQq840jJqQ",
        "colab_type": "text"
      },
      "source": [
        "Βλέπουμε την απόδοση του μοντέλου μας στα δεδομένα ελέγχου"
      ]
    },
    {
      "cell_type": "code",
      "metadata": {
        "id": "mpo_acFgjUdc",
        "colab_type": "code",
        "outputId": "0df95be7-15fb-47da-b342-d855fe9cf309",
        "colab": {
          "base_uri": "https://localhost:8080/",
          "height": 85
        }
      },
      "source": [
        "perceptron_func_loss, perceptron_func_acc = perceptron_func.evaluate(x_test, y_test)\n",
        "\n",
        "print('\\nΣυνάρτηση κόστους: \\t{:.2f}\\nΑκρίβεια:\\t\\t{:.2f}%'.format(perceptron_func_loss, 100*perceptron_func_acc))"
      ],
      "execution_count": 0,
      "outputs": [
        {
          "output_type": "stream",
          "text": [
            "10000/10000 [==============================] - 1s 75us/step\n",
            "\n",
            "Συνάρτηση κόστους: \t0.32\n",
            "Ακρίβεια:\t\t91.14%\n"
          ],
          "name": "stdout"
        }
      ]
    },
    {
      "cell_type": "markdown",
      "metadata": {
        "id": "JpCGi2x1-6AV",
        "colab_type": "text"
      },
      "source": [
        "Οπτικοποίηση των βαρών για κάθε νευρώνα $(0-9$) διατάσσοντας τα $784$ στοιχεία σε μια εικόνα $28x28$ pixel."
      ]
    },
    {
      "cell_type": "code",
      "metadata": {
        "id": "SWJTBxbt-6nr",
        "colab_type": "code",
        "outputId": "e6e58728-e0a3-46e6-9b81-b9f9d6ec2de0",
        "colab": {
          "base_uri": "https://localhost:8080/",
          "height": 377
        }
      },
      "source": [
        "for i in range(10):\n",
        "    plt.subplot(2, 5, i+1)\n",
        "    weight = perceptron_func.layers[1].get_weights()[0][:,i].reshape([28,28])\n",
        "    plt.title(i)\n",
        "    plt.imshow(weight, cmap='RdBu')\n",
        "    frame1 = plt.gca()\n",
        "    frame1.axes.get_xaxis().set_visible(False)\n",
        "    frame1.axes.get_yaxis().set_visible(False)"
      ],
      "execution_count": 0,
      "outputs": [
        {
          "output_type": "display_data",
          "data": {
            "image/png": "[encoded data removed]",
            "text/plain": [
              "<Figure size 1440x432 with 10 Axes>"
            ]
          },
          "metadata": {
            "tags": []
          }
        }
      ]
    }
  ]
}